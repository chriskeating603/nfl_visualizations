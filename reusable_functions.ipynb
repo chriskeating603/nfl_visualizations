{
 "cells": [
  {
   "cell_type": "markdown",
   "metadata": {},
   "source": [
    "###Function to get primary color from each individual page"
   ]
  },
  {
   "cell_type": "code",
   "execution_count": 13,
   "metadata": {},
   "outputs": [],
   "source": [
    "def get_team_color(ext):\n",
    "    team_res = requests.get(f'https://www.codeofcolors.com/{ext}').text\n",
    "    html = bs(team_res, features=\"lxml\")\n",
    "    color = html.find('div', 'color-box').text\n",
    "    return color[2:9]"
   ]
  },
  {
   "cell_type": "markdown",
   "metadata": {},
   "source": [
    "###Map full team names to abbreviations in main notebook"
   ]
  },
  {
   "cell_type": "code",
   "execution_count": 11,
   "metadata": {},
   "outputs": [],
   "source": [
    "def get_abbrev_name(name):\n",
    "    name_split = name.upper().split(' ')\n",
    "#     these two team names don't follow any convention, which is why I created separate cases for them\n",
    "    if name == 'Jacksonville Jaguars':\n",
    "        return 'JAX'\n",
    "    if name == 'Los Angeles Rams':\n",
    "        return 'LA'\n",
    "#     Cities with one word take the first three letters\n",
    "    elif len(name_split) == 2:\n",
    "        return name_split[0][0:3]\n",
    "#     Cities with two words and two teams take the first letters of the city and the first letter of the mascot e.g. NYG\n",
    "    elif len(name_split) == 3 and (name_split[1] == 'YORK' or name_split[1] == 'ANGELES'):\n",
    "        return name_split[0][0] + name_split[1][0] + name_split[2][0]\n",
    "#     Cities with two words and one team take the first letter of the city name\n",
    "    elif len(name_split) == 3:\n",
    "        return name_split[0][0] + name_split[1][0]"
   ]
  }
 ],
 "metadata": {
  "kernelspec": {
   "display_name": "Python 3",
   "language": "python",
   "name": "python3"
  },
  "language_info": {
   "codemirror_mode": {
    "name": "ipython",
    "version": 3
   },
   "file_extension": ".py",
   "mimetype": "text/x-python",
   "name": "python",
   "nbconvert_exporter": "python",
   "pygments_lexer": "ipython3",
   "version": "3.8.6"
  }
 },
 "nbformat": 4,
 "nbformat_minor": 4
}
