{
 "cells": [
  {
   "cell_type": "markdown",
   "metadata": {},
   "source": [
    "###Importing appropriate libraries"
   ]
  },
  {
   "cell_type": "code",
   "execution_count": 2,
   "metadata": {},
   "outputs": [],
   "source": [
    "import requests \n",
    "from bs4 import BeautifulSoup\n",
    "import pandas as pd"
   ]
  },
  {
   "cell_type": "markdown",
   "metadata": {},
   "source": [
    "###Get table of team names and links to individual pages from Codeofcolors.com"
   ]
  },
  {
   "cell_type": "code",
   "execution_count": 4,
   "metadata": {},
   "outputs": [],
   "source": [
    "response = requests.get('https://www.codeofcolors.com/nfl-team-colors.html').text\n",
    "html = BeautifulSoup(response, features=\"lxml\")\n",
    "table = html.find('table', 'gray-table')\n",
    "links = table.findAll('a')\n",
    "teams = []\n",
    "primary_colors = []"
   ]
  },
  {
   "cell_type": "markdown",
   "metadata": {},
   "source": [
    "###Function to get primary color from each individual page"
   ]
  },
  {
   "cell_type": "code",
   "execution_count": 6,
   "metadata": {},
   "outputs": [],
   "source": [
    "def get_team_color(ext):\n",
    "    team_res = requests.get(f'https://www.codeofcolors.com/{ext}').text\n",
    "    html = BeautifulSoup(team_res, features=\"lxml\")\n",
    "    color = html.find('div', 'color-box').text\n",
    "    return color[2:9]"
   ]
  },
  {
   "cell_type": "markdown",
   "metadata": {},
   "source": [
    "###Scrape color from each individual page and create a dataframe"
   ]
  },
  {
   "cell_type": "code",
   "execution_count": 8,
   "metadata": {},
   "outputs": [],
   "source": [
    "for a in links:\n",
    "    teams.append(a.text)\n",
    "    primary_colors.append(get_team_color(a['href']))"
   ]
  },
  {
   "cell_type": "code",
   "execution_count": 9,
   "metadata": {},
   "outputs": [],
   "source": [
    "teams = ['Las Vegas Raiders' if x == 'Oakland Raiders' else 'Los Angeles Chargers' if x == 'Los Angeles  Chargers' else x for x in teams]"
   ]
  },
  {
   "cell_type": "markdown",
   "metadata": {},
   "source": [
    "###Import function from reusable_functions file to transform team name to abbreviation"
   ]
  },
  {
   "cell_type": "code",
   "execution_count": 10,
   "metadata": {},
   "outputs": [],
   "source": [
    "from ipynb.fs.defs.reusable_functions import get_abbrev_name\n",
    "\n",
    "teams = [get_abbrev_name(team) for team in teams]"
   ]
  },
  {
   "cell_type": "code",
   "execution_count": 11,
   "metadata": {},
   "outputs": [],
   "source": [
    "df = pd.DataFrame({'team': teams, 'color': primary_colors})\n",
    "df.to_csv(r'data/team_colors.csv', index=False)"
   ]
  }
 ],
 "metadata": {
  "kernelspec": {
   "display_name": "Python 3",
   "language": "python",
   "name": "python3"
  },
  "language_info": {
   "codemirror_mode": {
    "name": "ipython",
    "version": 3
   },
   "file_extension": ".py",
   "mimetype": "text/x-python",
   "name": "python",
   "nbconvert_exporter": "python",
   "pygments_lexer": "ipython3",
   "version": "3.8.6"
  }
 },
 "nbformat": 4,
 "nbformat_minor": 4
}
