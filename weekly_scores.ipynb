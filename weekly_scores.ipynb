{
 "cells": [
  {
   "cell_type": "markdown",
   "metadata": {},
   "source": [
    "###Importing appropriate libraries"
   ]
  },
  {
   "cell_type": "code",
   "execution_count": 1,
   "metadata": {},
   "outputs": [],
   "source": [
    "import requests \n",
    "import pandas as pd"
   ]
  },
  {
   "cell_type": "markdown",
   "metadata": {},
   "source": [
    "###Select what data we want to retrieve"
   ]
  },
  {
   "cell_type": "code",
   "execution_count": 2,
   "metadata": {},
   "outputs": [],
   "source": [
    "season = str(2020)\n",
    "weeks = 16"
   ]
  },
  {
   "cell_type": "markdown",
   "metadata": {},
   "source": [
    "###Get list of all outcomes in separate tables"
   ]
  },
  {
   "cell_type": "code",
   "execution_count": 3,
   "metadata": {},
   "outputs": [],
   "source": [
    "outcomes = pd.DataFrame({'team':[], 'week':[], 'win':[], 'points_scored':[], 'points_given_up':[]})\n",
    "def set_outcome(table, week):\n",
    "    home_team = str(table.iloc[2][0])\n",
    "    away_team = str(table.iloc[1][0])\n",
    "    home_score = int(table.iloc[2][1])\n",
    "    away_score = int(table.iloc[1][1])\n",
    "    if home_score > away_score:\n",
    "        outcomes.loc[len(outcomes.index)] = [home_team, str(week), int(1), home_score, away_score]\n",
    "        outcomes.loc[len(outcomes.index)] = [away_team, str(week), int(0), away_score, home_score]\n",
    "    elif home_score < away_score:\n",
    "        outcomes.loc[len(outcomes.index)] = [home_team, str(week), int(0), home_score, away_score]\n",
    "        outcomes.loc[len(outcomes.index)] = [away_team, str(week), int(1), away_score, home_score]\n",
    "\n",
    "for week in range(1, weeks+1):\n",
    "    response = requests.get(f'https://www.pro-football-reference.com/years/{season}/week_{week}.htm').text\n",
    "    dfs = pd.read_html(response, attrs = {'class': 'teams'})\n",
    "    for i in range(0, len(dfs)):\n",
    "        set_outcome(dfs[i], week)"
   ]
  },
  {
   "cell_type": "markdown",
   "metadata": {},
   "source": [
    "###Import 'get_abbrev_name' function from reusable_functions.ipynb file and use function to update the table with team abbreviations"
   ]
  },
  {
   "cell_type": "code",
   "execution_count": 5,
   "metadata": {},
   "outputs": [],
   "source": [
    "from ipynb.fs.defs.reusable_functions import get_abbrev_name\n",
    "outcomes['team'] = outcomes['team'].apply(get_abbrev_name)"
   ]
  },
  {
   "cell_type": "code",
   "execution_count": 6,
   "metadata": {},
   "outputs": [],
   "source": [
    "# outcomes.to_csv(r'game_outcomes', index=False)\n",
    "outcomes.to_csv(f'data/game_outcomes_{season}.csv', index=False)"
   ]
  }
 ],
 "metadata": {
  "kernelspec": {
   "display_name": "Python 3",
   "language": "python",
   "name": "python3"
  },
  "language_info": {
   "codemirror_mode": {
    "name": "ipython",
    "version": 3
   },
   "file_extension": ".py",
   "mimetype": "text/x-python",
   "name": "python",
   "nbconvert_exporter": "python",
   "pygments_lexer": "ipython3",
   "version": "3.8.6"
  }
 },
 "nbformat": 4,
 "nbformat_minor": 4
}
